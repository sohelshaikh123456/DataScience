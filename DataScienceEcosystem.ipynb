{
 "cells": [
  {
   "cell_type": "markdown",
   "id": "75af5df3-dec6-4761-9086-eef89536dfea",
   "metadata": {},
   "source": [
    "# Data Science Tools and Ecosystem"
   ]
  },
  {
   "cell_type": "markdown",
   "id": "65fac41a-4e8b-40d4-a994-33c5d1af6396",
   "metadata": {},
   "source": [
    "### In this notebook, Data Science Tools and Ecosystem are summarized."
   ]
  },
  {
   "cell_type": "markdown",
   "id": "98d4bcab-38a7-4e31-a93a-072eb2b35b2f",
   "metadata": {},
   "source": [
    "### Objectives:\n",
    "* To list the popular languages used for Data Science\n",
    "* To list some of the commonly used libraries by Data Scientist\n",
    "* To List Data Science Tools\n",
    "* To give a few examples of evaluating examples of arithmetic expression"
   ]
  },
  {
   "cell_type": "markdown",
   "id": "b4ed2070-bf23-4e1e-a874-b84ba9c88b0d",
   "metadata": {},
   "source": [
    "#### Some of the popular languages that Data Scientists use are:\n",
    "1. Python\n",
    "2. SQL\n",
    "3. R"
   ]
  },
  {
   "cell_type": "markdown",
   "id": "64f66ce6-84c8-4b8c-a30f-234212a9a911",
   "metadata": {},
   "source": [
    "#### Some of the commonly used libraries used by Data Scientists include:\n",
    "1. Pandas\n",
    "2. Scikit_learn\n",
    "3. Matplotlib\n",
    "4. TensorFlow\n",
    "5. seaborn"
   ]
  },
  {
   "cell_type": "markdown",
   "id": "ab8b94a5-2f67-457b-bcf2-7825cea97341",
   "metadata": {},
   "source": [
    "| Data Science Tools |\n",
    "|--------------------|\n",
    "| Jupyter Notebook |\n",
    "| R Studio |\n",
    "| IBM Watson |\n",
    "| Apache Zepplin |"
   ]
  },
  {
   "cell_type": "markdown",
   "id": "9d76c22e-04ef-4827-8899-7eaffe49d263",
   "metadata": {},
   "source": [
    "### Below are a few examples of evaluating arithmetic expressions in Python"
   ]
  },
  {
   "cell_type": "code",
   "execution_count": 17,
   "id": "d3521307-5bad-433a-ba75-af47bf478da4",
   "metadata": {},
   "outputs": [
    {
     "data": {
      "text/plain": [
       "14"
      ]
     },
     "execution_count": 17,
     "metadata": {},
     "output_type": "execute_result"
    }
   ],
   "source": [
    "5+9"
   ]
  },
  {
   "cell_type": "code",
   "execution_count": 19,
   "id": "bb73e9dd-248d-4fc2-aab8-0d1bdf344ebb",
   "metadata": {},
   "outputs": [
    {
     "data": {
      "text/plain": [
       "280"
      ]
     },
     "execution_count": 19,
     "metadata": {},
     "output_type": "execute_result"
    }
   ],
   "source": [
    "15+8-255+512"
   ]
  },
  {
   "cell_type": "code",
   "execution_count": 21,
   "id": "637a4b4e-39eb-4918-96bf-dff6ded646d2",
   "metadata": {},
   "outputs": [
    {
     "data": {
      "text/plain": [
       "17"
      ]
     },
     "execution_count": 21,
     "metadata": {},
     "output_type": "execute_result"
    }
   ],
   "source": [
    "# This a simple arithmetic expression to multiply then add integers\n",
    "(3*4)+5"
   ]
  },
  {
   "cell_type": "code",
   "execution_count": 37,
   "id": "ff634c45-35c4-4bcd-81be-eaff8434d411",
   "metadata": {},
   "outputs": [
    {
     "name": "stdout",
     "output_type": "stream",
     "text": [
      "The given time converted in hours is 3.3333333333333335\n"
     ]
    }
   ],
   "source": [
    "#This will convert 200 minutes to hours by diving by 60\n",
    "min=200\n",
    "hr = min/60\n",
    "print('The given time converted in hours is', hr)"
   ]
  },
  {
   "cell_type": "markdown",
   "id": "9fb5cb6a-58f7-4efb-81bb-c90920c3dbd5",
   "metadata": {},
   "source": [
    "## Author\n",
    "Sohel Sajid Shaikh"
   ]
  },
  {
   "cell_type": "code",
   "execution_count": null,
   "id": "641ef077-0031-43c7-be80-4b18077ff329",
   "metadata": {},
   "outputs": [],
   "source": []
  }
 ],
 "metadata": {
  "kernelspec": {
   "display_name": "Python [conda env:base] *",
   "language": "python",
   "name": "conda-base-py"
  },
  "language_info": {
   "codemirror_mode": {
    "name": "ipython",
    "version": 3
   },
   "file_extension": ".py",
   "mimetype": "text/x-python",
   "name": "python",
   "nbconvert_exporter": "python",
   "pygments_lexer": "ipython3",
   "version": "3.12.7"
  }
 },
 "nbformat": 4,
 "nbformat_minor": 5
}
